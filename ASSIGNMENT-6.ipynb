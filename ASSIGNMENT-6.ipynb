{
 "cells": [
  {
   "cell_type": "markdown",
   "id": "d36a80e3",
   "metadata": {},
   "source": [
    "1.a)\n",
    "\n",
    "\\' for Single quote\n",
    "\\ for Backslash\n",
    "\\n for New line\n",
    "\\r for Carriage return \\t for Tab \\b for Backspace when we want aline in new line we can use \\n, for tab we can use \\t etc,.\n",
    "\n",
    "2.a)\n",
    "\n",
    "escape sequence t stands for Tab escape sequence n stands for New Line\n",
    "\n",
    "3.a) \\ is used to include backslash characters in a string\n",
    "\n",
    "4.a)\n",
    "\n",
    "Because the whole string is enclosed by double strings (\"\"). Single quote is between the howl and s .so it is not a problem.\n",
    "\n",
    "5.a)\n",
    "\n",
    "we can use different number of print staements for writing without a \\n.\n",
    "\n",
    "6.a)\n",
    "\n",
    "\"Hello, world!\"[1] is 'e' \"Hello, world!\"[0:5] is 'Hello' \"Hello, world!\"[:5] is 'Hello' \"Hello, world!\"[3:] is 'lo, world!'\n",
    "\n",
    "7.a)\n",
    "\n",
    "'Hello'.upper() is 'HELLO' 'Hello'.upper().isupper() is True 'Hello'.upper().lower() is 'hello'\n",
    "\n",
    "8.a)\n",
    "\n",
    "'Remember, remember, the fifth of July.'.split() is ['Remember,', 'remember,', 'the', 'fifth', 'of', 'July.'] '-'.join('There can only one.'.split()) is 'There-can-only-one.'\n",
    "\n",
    "9.a)\n",
    "\n",
    "ljust,rjust,center.\n",
    "\n",
    "10.a)\n",
    "\n",
    "strip() function is best"
   ]
  }
 ],
 "metadata": {
  "kernelspec": {
   "display_name": "Python 3 (ipykernel)",
   "language": "python",
   "name": "python3"
  },
  "language_info": {
   "codemirror_mode": {
    "name": "ipython",
    "version": 3
   },
   "file_extension": ".py",
   "mimetype": "text/x-python",
   "name": "python",
   "nbconvert_exporter": "python",
   "pygments_lexer": "ipython3",
   "version": "3.9.12"
  }
 },
 "nbformat": 4,
 "nbformat_minor": 5
}
