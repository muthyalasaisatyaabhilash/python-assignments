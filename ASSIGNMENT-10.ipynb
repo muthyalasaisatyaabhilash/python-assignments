{
 "cells": [
  {
   "cell_type": "markdown",
   "id": "bb7c914a",
   "metadata": {},
   "source": [
    "1.A)\n",
    "shutil.copy() will copy a single file.\n",
    "shutil.copytree() will copy a folder .If the foldier contains files ,it copy those files also.\n",
    "\n",
    "2.A)\n",
    "rename() is used to change the file name\n",
    "\n",
    "3.A)\n",
    "delete functions in send2trash will move files or directory to recycle bin,\n",
    "where as delete functions in shutil will delete files permanently.\n",
    "\n",
    "4.A)\n",
    "zipfile.ZipFile() function is equivalent to open() function in files."
   ]
  },
  {
   "cell_type": "code",
   "execution_count": 1,
   "id": "6ea125bc",
   "metadata": {},
   "outputs": [
    {
     "name": "stdout",
     "output_type": "stream",
     "text": [
      "Looking in C:\\Users\\SAI SATYA ABHILASH\\Folder for files with extensions of .py\n"
     ]
    }
   ],
   "source": [
    "#5A)\n",
    "import os, shutil\n",
    "def selectiveCopy(folder, extensions, destFolder):\n",
    "    folder = os.path.abspath(folder)\n",
    "    destFolder = os.path.abspath(destFolder)\n",
    "    print('Looking in', folder, 'for files with extensions of', ', '.join(extensions))\n",
    "    for foldername, subfolders, filenames in os.walk(folder):\n",
    "        for filename in filenames:\n",
    "            name, extension = os.path.splitext(filename)\n",
    "            if extension in extensions:\n",
    "                fileAbsPath = foldername + os.path.sep + filename\n",
    "                print('Coping', fileAbsPath, 'to', destFolder)\n",
    "                shutil.copy(fileAbsPath, destFolder)\n",
    "\n",
    "extensions = ['.py']\n",
    "folder = 'Folder'\n",
    "destFolder = 'destFolder'\n",
    "selectiveCopy(folder, extensions, destFolder)"
   ]
  },
  {
   "cell_type": "code",
   "execution_count": null,
   "id": "359808b4",
   "metadata": {},
   "outputs": [],
   "source": []
  }
 ],
 "metadata": {
  "kernelspec": {
   "display_name": "Python 3 (ipykernel)",
   "language": "python",
   "name": "python3"
  },
  "language_info": {
   "codemirror_mode": {
    "name": "ipython",
    "version": 3
   },
   "file_extension": ".py",
   "mimetype": "text/x-python",
   "name": "python",
   "nbconvert_exporter": "python",
   "pygments_lexer": "ipython3",
   "version": "3.9.12"
  }
 },
 "nbformat": 4,
 "nbformat_minor": 5
}
