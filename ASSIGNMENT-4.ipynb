{
 "cells": [
  {
   "cell_type": "markdown",
   "id": "2a4aa7df",
   "metadata": {},
   "source": [
    "1.A)\n",
    "\n",
    "[] is a empty list.\n",
    "\n",
    "2.A)\n",
    "\n",
    "spam[3]='hello'\n",
    "\n",
    "3.A)\n",
    "\n",
    "spam=[2, 4, 6, 8, 10,['a','b','c','d']] spam[int(int('3'*2)/11)]\n",
    "\n",
    "Its value is 8.\n",
    "\n",
    "4.A)\n",
    "\n",
    "spam[-1] ['a', 'b', 'c', 'd']\n",
    "\n",
    "5.A)\n",
    "\n",
    "spam[:2] answer is [2, 4]\n",
    "\n",
    "6.A) bacon=[3.14,'cat',11,'cat',True] bacon.index('cat') the answer is 1\n",
    "\n",
    "7.A)\n",
    "\n",
    "bacon.append(99) [3.14, 'cat', 11, 'cat', True, 99]\n",
    "\n",
    "8.A) bacon.remove('cat') [3.14, 11, 'cat', True, 99] It removes the first occurance of the value\n",
    "\n",
    "9.A)\n",
    "\n",
    "->is list concatenation operator\n",
    "->is list replication operator.\n",
    "10.A)\n",
    "\n",
    "append() adds the object at the end of the list. insert() adds the object at the specific given index place.\n",
    "\n",
    "11.A)\n",
    "\n",
    "Two methods for removing objects from the list are pop() and ramove().\n",
    "\n",
    "12.A)\n",
    "\n",
    "String values are immutable whereas list values ar mutable\n",
    "\n",
    "13.A)\n",
    "\n",
    "lists are mutable tuples are immutable.\n",
    "\n",
    "14.A)\n",
    "\n",
    "t=(42)\n",
    "\n",
    "15.A)\n",
    "\n",
    "we can get a list value's tuple form by tuple(list_name) we can get a tuple value's list form by list(tuple_name)\n",
    "16.A)\n",
    "\n",
    "references\n",
    "\n",
    "17.A)\n",
    "\n",
    "by using copy.copy(),copied object have changes made to original object. By usig copy.deepcopy(), copied object have no changes made to the original object. And it works recursively."
   ]
  },
  {
   "cell_type": "code",
   "execution_count": 1,
   "id": "a9fe8f62",
   "metadata": {},
   "outputs": [],
   "source": [
    "bacon=[3.14,'cat',11,'cat',True]"
   ]
  },
  {
   "cell_type": "code",
   "execution_count": 2,
   "id": "3f2e2ca4",
   "metadata": {},
   "outputs": [
    {
     "data": {
      "text/plain": [
       "1"
      ]
     },
     "execution_count": 2,
     "metadata": {},
     "output_type": "execute_result"
    }
   ],
   "source": [
    "bacon.index('cat')"
   ]
  },
  {
   "cell_type": "code",
   "execution_count": 3,
   "id": "dcce2b2c",
   "metadata": {},
   "outputs": [],
   "source": [
    "bacon.append(99)"
   ]
  },
  {
   "cell_type": "code",
   "execution_count": 4,
   "id": "3304326f",
   "metadata": {},
   "outputs": [
    {
     "data": {
      "text/plain": [
       "[3.14, 'cat', 11, 'cat', True, 99]"
      ]
     },
     "execution_count": 4,
     "metadata": {},
     "output_type": "execute_result"
    }
   ],
   "source": [
    "bacon"
   ]
  },
  {
   "cell_type": "code",
   "execution_count": 5,
   "id": "9214186e",
   "metadata": {},
   "outputs": [],
   "source": [
    "s=[1,2,3]"
   ]
  },
  {
   "cell_type": "code",
   "execution_count": 6,
   "id": "4e2c11b1",
   "metadata": {},
   "outputs": [],
   "source": [
    "a=s*2"
   ]
  },
  {
   "cell_type": "code",
   "execution_count": 7,
   "id": "fe9c2840",
   "metadata": {},
   "outputs": [
    {
     "data": {
      "text/plain": [
       "[1, 2, 3, 1, 2, 3]"
      ]
     },
     "execution_count": 7,
     "metadata": {},
     "output_type": "execute_result"
    }
   ],
   "source": [
    "a"
   ]
  },
  {
   "cell_type": "code",
   "execution_count": 8,
   "id": "7f5239cb",
   "metadata": {},
   "outputs": [],
   "source": [
    "a.insert(2,'hi')"
   ]
  },
  {
   "cell_type": "code",
   "execution_count": 9,
   "id": "477bc1b2",
   "metadata": {},
   "outputs": [
    {
     "data": {
      "text/plain": [
       "[1, 2, 'hi', 3, 1, 2, 3]"
      ]
     },
     "execution_count": 9,
     "metadata": {},
     "output_type": "execute_result"
    }
   ],
   "source": [
    "a"
   ]
  },
  {
   "cell_type": "code",
   "execution_count": 10,
   "id": "c0154d97",
   "metadata": {},
   "outputs": [
    {
     "data": {
      "text/plain": [
       "'hi'"
      ]
     },
     "execution_count": 10,
     "metadata": {},
     "output_type": "execute_result"
    }
   ],
   "source": [
    "a.pop(2)"
   ]
  },
  {
   "cell_type": "code",
   "execution_count": 11,
   "id": "971313db",
   "metadata": {},
   "outputs": [],
   "source": [
    "a.remove(3)"
   ]
  },
  {
   "cell_type": "code",
   "execution_count": 12,
   "id": "ada03bd8",
   "metadata": {},
   "outputs": [],
   "source": [
    "s='123'"
   ]
  },
  {
   "cell_type": "code",
   "execution_count": 13,
   "id": "7f0241f8",
   "metadata": {},
   "outputs": [],
   "source": [
    "t=(1,23)"
   ]
  },
  {
   "cell_type": "code",
   "execution_count": 14,
   "id": "e794b9a0",
   "metadata": {},
   "outputs": [
    {
     "data": {
      "text/plain": [
       "(1, 23)"
      ]
     },
     "execution_count": 14,
     "metadata": {},
     "output_type": "execute_result"
    }
   ],
   "source": [
    "t"
   ]
  },
  {
   "cell_type": "code",
   "execution_count": 15,
   "id": "9fd49ed5",
   "metadata": {},
   "outputs": [
    {
     "data": {
      "text/plain": [
       "('1', '2', '3')"
      ]
     },
     "execution_count": 15,
     "metadata": {},
     "output_type": "execute_result"
    }
   ],
   "source": [
    "tuple(s)"
   ]
  },
  {
   "cell_type": "code",
   "execution_count": 16,
   "id": "88d030e3",
   "metadata": {},
   "outputs": [
    {
     "data": {
      "text/plain": [
       "[1, 23]"
      ]
     },
     "execution_count": 16,
     "metadata": {},
     "output_type": "execute_result"
    }
   ],
   "source": [
    "list(t)"
   ]
  },
  {
   "cell_type": "code",
   "execution_count": 17,
   "id": "0e550cc3",
   "metadata": {},
   "outputs": [],
   "source": [
    "# importing copy module\n",
    "import copy\n",
    "\n",
    "# initializing list 1\n",
    "li1 = [1, 2, [3,5], 4]\n",
    "\n",
    "\n",
    "# using copy for shallow copy\n",
    "li2 = copy.copy(li1)\n",
    "\n",
    "# using deepcopy for deepcopy\n",
    "li3 = copy.deepcopy(li1)"
   ]
  },
  {
   "cell_type": "code",
   "execution_count": 18,
   "id": "767a786f",
   "metadata": {},
   "outputs": [
    {
     "data": {
      "text/plain": [
       "[1, 2, [3, 5], 4]"
      ]
     },
     "execution_count": 18,
     "metadata": {},
     "output_type": "execute_result"
    }
   ],
   "source": [
    "li3"
   ]
  },
  {
   "cell_type": "code",
   "execution_count": 19,
   "id": "99fbd80b",
   "metadata": {},
   "outputs": [
    {
     "data": {
      "text/plain": [
       "[1, 2, [3, 5], 4]"
      ]
     },
     "execution_count": 19,
     "metadata": {},
     "output_type": "execute_result"
    }
   ],
   "source": [
    "li2"
   ]
  }
 ],
 "metadata": {
  "kernelspec": {
   "display_name": "Python 3 (ipykernel)",
   "language": "python",
   "name": "python3"
  },
  "language_info": {
   "codemirror_mode": {
    "name": "ipython",
    "version": 3
   },
   "file_extension": ".py",
   "mimetype": "text/x-python",
   "name": "python",
   "nbconvert_exporter": "python",
   "pygments_lexer": "ipython3",
   "version": "3.9.12"
  }
 },
 "nbformat": 4,
 "nbformat_minor": 5
}
