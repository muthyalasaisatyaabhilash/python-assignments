{
 "cells": [
  {
   "cell_type": "markdown",
   "id": "f7d10953",
   "metadata": {},
   "source": [
    "1.A)\n",
    "\n",
    "Functions reduce the code that we have to write . Rewriting of the same code can be stopped. We can call the function whenever we need the same code.\n",
    "\n",
    "2.A)\n",
    "\n",
    "Function runs when call the function.\n",
    "\n",
    "3.A)\n",
    "\n",
    "'def' keyword creates the function\n",
    "\n",
    "4.A)\n",
    "\n",
    "Function is the piece of code . It can be called when we need it. Function call is used while running or executing the function. And it return the value.\n",
    "\n",
    "5.A)\n",
    "\n",
    "only one global scope in a program. we can create any number of local scopes in a function.\n",
    "\n",
    "6.A)\n",
    "\n",
    "A local variable becomes undefined after the function call returns.\n",
    "\n",
    "7.A)Function returns a value when it calls . After the execution of the code it returns a value. Yes . there is a return value in an expression . It can be any object like strings, integer,float..\n",
    "\n",
    "8.A)\n",
    "\n",
    "It returns a 'None'.\n",
    "\n",
    "9.A)\n",
    "\n",
    "We can make a local variable as a global variable by using 'global' keyword.\n",
    "\n",
    "10.A)\n",
    "\n",
    "Data Type of 'none' is 'NoneType'.\n",
    "\n",
    "11.A)\n",
    "\n",
    "It import a module called 'areallyourpetsnamederic'.\n",
    "\n",
    "12.A)\n",
    "\n",
    "After importing spam module ,we can call it by writing spam.bacon().\n",
    "\n",
    "13.A)\n",
    "\n",
    "we have to rectify the errors that shown by compiler.\n",
    "14.A)\n",
    "\n",
    "try clause tests the statement in it or part of the code. except clause handles the errors."
   ]
  }
 ],
 "metadata": {
  "kernelspec": {
   "display_name": "Python 3 (ipykernel)",
   "language": "python",
   "name": "python3"
  },
  "language_info": {
   "codemirror_mode": {
    "name": "ipython",
    "version": 3
   },
   "file_extension": ".py",
   "mimetype": "text/x-python",
   "name": "python",
   "nbconvert_exporter": "python",
   "pygments_lexer": "ipython3",
   "version": "3.9.12"
  }
 },
 "nbformat": 4,
 "nbformat_minor": 5
}
