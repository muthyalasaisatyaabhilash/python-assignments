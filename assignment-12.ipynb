{
 "cells": [
  {
   "cell_type": "markdown",
   "id": "2d8eb7e1",
   "metadata": {},
   "source": [
    "1A)  PdfFileReader() needs to be opened in read-binary mode by passing 'rb' as the second argument to open()\n",
    "     PdfFileWriter() needs to be opened in write-binary mode with 'wb'."
   ]
  },
  {
   "cell_type": "markdown",
   "id": "911b0675",
   "metadata": {},
   "source": [
    "2a)You can get a Page object by calling the getPage() method on a PdfFileReader object and passing it the page number of the page you needed"
   ]
  },
  {
   "cell_type": "markdown",
   "id": "d6b34013",
   "metadata": {},
   "source": [
    "3a)The total number of pages in the document is stored in the numPages attribute of a PdfFileReader object"
   ]
  },
  {
   "cell_type": "markdown",
   "id": "aea2de57",
   "metadata": {},
   "source": [
    "4a)Before we obtain the page object, the pdf has to be decrypted by calling .decrypt('swordfish')"
   ]
  },
  {
   "cell_type": "markdown",
   "id": "57d46d24",
   "metadata": {},
   "source": [
    "5a)A run is the object most closely associated with inline content text pictures, and other items that are flowed between the block item boundaries within a paragraph."
   ]
  },
  {
   "cell_type": "markdown",
   "id": "093f9dfe",
   "metadata": {},
   "source": [
    "6a)A paragraph style name can be assigned in lieu of a paragraph style object. Assigning |None| removes any applied style, making its effective value the default"
   ]
  },
  {
   "cell_type": "markdown",
   "id": "2ab7de49",
   "metadata": {},
   "source": [
    "7a)Paragraph Object : A document contains multiple paragraphs. A paragraph begins on a new line and contains multiple runs. The Document object contains a list of Paragraph objects for the paragraphs in the document"
   ]
  },
  {
   "cell_type": "markdown",
   "id": "77da3fea",
   "metadata": {},
   "source": [
    "8a)Paragraph Object : A document contains multiple paragraphs. A paragraph begins on a new line and contains multiple runs. The Document object contains a list of Paragraph objects for the paragraphs in the document"
   ]
  },
  {
   "cell_type": "markdown",
   "id": "b81dd449",
   "metadata": {},
   "source": [
    "9)True and False are specific bool values. Use default False when you have a bool field and you want the default to be False. Don't use False as a value for a non- bool field."
   ]
  },
  {
   "cell_type": "markdown",
   "id": "f2608220",
   "metadata": {},
   "source": [
    "10)1)Create an object of Document class.\n",
    "   2)Create an object of DocumentBuilder class.\n",
    "   3)Insert text into document using DocumentBuilder. write() method.\n",
    "   4)Save the Word document using Document. save() method."
   ]
  },
  {
   "cell_type": "markdown",
   "id": "8498b435",
   "metadata": {},
   "source": [
    "11)doc.add_paragraph("Hello,there!")\n",
    "\n"
   ]
  },
  {
   "cell_type": "markdown",
   "id": "bdf77616",
   "metadata": {},
   "source": [
    "12)You can number headings so that top-level headings (Heading 1) are numbered 1, 2, 3, for example, and second-level headings (Heading 2) are numbered 1.1, 1.2, 1.3. Open your document that uses built-in heading styles, and select the first Heading "
   ]
  }
 ],
 "metadata": {
  "kernelspec": {
   "display_name": "Python 3 (ipykernel)",
   "language": "python",
   "name": "python3"
  },
  "language_info": {
   "codemirror_mode": {
    "name": "ipython",
    "version": 3
   },
   "file_extension": ".py",
   "mimetype": "text/x-python",
   "name": "python",
   "nbconvert_exporter": "python",
   "pygments_lexer": "ipython3",
   "version": "3.9.7"
  }
 },
 "nbformat": 4,
 "nbformat_minor": 5
}
