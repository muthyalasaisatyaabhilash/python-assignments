{
 "cells": [
  {
   "cell_type": "code",
   "execution_count": 1,
   "id": "f50d9acf",
   "metadata": {},
   "outputs": [],
   "source": [
    "#       1.A) Two values of boolen are True and False.we can wirte them like \n",
    "#        == ,!="
   ]
  },
  {
   "cell_type": "code",
   "execution_count": 2,
   "id": "a2dadcad",
   "metadata": {},
   "outputs": [],
   "source": [
    "#       2.A) 3 types of booleaan operators are and , or , not"
   ]
  },
  {
   "cell_type": "code",
   "execution_count": 3,
   "id": "4e29612e",
   "metadata": {},
   "outputs": [],
   "source": [
    "#  3.a)\n",
    "\n",
    " #             X         Y        X and Y     X or Y\n",
    " #             False    False     False        False\n",
    " #             False    True      False        True\n",
    " #            True     False     False        True \n",
    " #            True     True      True         True    "
   ]
  },
  {
   "cell_type": "code",
   "execution_count": 4,
   "id": "7b0eecc7",
   "metadata": {},
   "outputs": [],
   "source": [
    "#        4.A)\n",
    "\n",
    " # \n",
    " #         (5 > 4) and (3 == 5)   is False\n",
    " #         not (5 > 4)            is False\n",
    " #         (5 > 4) or (3 == 5)    is True\n",
    " #          not ((5 > 4) or (3 == 5)) is False\n",
    " #         (True and True) and (True == False) is False\n",
    " #          (not False) or (not True) is True"
   ]
  },
  {
   "cell_type": "code",
   "execution_count": 5,
   "id": "1fb14146",
   "metadata": {},
   "outputs": [],
   "source": [
    "#        5.A)comparison operators\n",
    "\n",
    "#             ==\n",
    "#             !=\n",
    "#               >\n",
    "#              <\n",
    "#               >=\n",
    "#               <="
   ]
  },
  {
   "cell_type": "code",
   "execution_count": 6,
   "id": "bc7fcff0",
   "metadata": {},
   "outputs": [],
   "source": [
    "#  6.A)\n",
    "\n",
    "# equal to operator(==) is used to check the two values are equal or not.\n",
    "#  assigment operator(=) is used to assign a value to the variable.\n",
    "#   while checking wheather two values are eqaul or not we use equal to operator.\n",
    "#   And while we assigning value to a variable we use assignment operator."
   ]
  },
  {
   "cell_type": "code",
   "execution_count": null,
   "id": "8ac9990e",
   "metadata": {},
   "outputs": [],
   "source": []
  },
  {
   "cell_type": "code",
   "execution_count": 9,
   "id": "f39cecf8",
   "metadata": {},
   "outputs": [
    {
     "name": "stdout",
     "output_type": "stream",
     "text": [
      "enter a value:3\n",
      "Greeting\n"
     ]
    }
   ],
   "source": [
    "#8.A)\n",
    "\n",
    "\n",
    "val=int(input('enter a value:'))\n",
    "if val==1:\n",
    "    print(\"spam\")\n",
    "elif val==2:\n",
    "    print('Howdy')\n",
    "else:\n",
    "    print('Greeting')\n",
    "\n"
   ]
  },
  {
   "cell_type": "code",
   "execution_count": 10,
   "id": "79ea92de",
   "metadata": {},
   "outputs": [],
   "source": [
    "#     9.A)  i'll press ctrl+c to stop the execution"
   ]
  },
  {
   "cell_type": "code",
   "execution_count": 11,
   "id": "e0392954",
   "metadata": {},
   "outputs": [],
   "source": [
    "#   10.A)\n",
    "#    break statement stops the loop.And continue statement jumps one iteration in loop"
   ]
  },
  {
   "cell_type": "code",
   "execution_count": 12,
   "id": "79b28ec7",
   "metadata": {},
   "outputs": [],
   "source": [
    "#   11.A)\n",
    "\n",
    "\n",
    "#        range(10) in for loop generates 10 random numbers.\n",
    "#        range(0,10) in for loop generates 10 numbers starts with 0 .\n",
    "#        range(0,10,1) generates 10 numbers starting with 0 and jumps each step with 1.\n",
    "\n",
    "#        The output of above all functions is same."
   ]
  },
  {
   "cell_type": "code",
   "execution_count": 13,
   "id": "ae5a0ef5",
   "metadata": {},
   "outputs": [
    {
     "name": "stdout",
     "output_type": "stream",
     "text": [
      "1\n",
      "2\n",
      "3\n",
      "4\n",
      "5\n",
      "6\n",
      "7\n",
      "8\n",
      "9\n",
      "10\n"
     ]
    }
   ],
   "source": [
    "#12.A)\n",
    "\n",
    "for i in range(1,11):\n",
    "    print(i)"
   ]
  },
  {
   "cell_type": "code",
   "execution_count": null,
   "id": "f602241d",
   "metadata": {},
   "outputs": [],
   "source": []
  }
 ],
 "metadata": {
  "kernelspec": {
   "display_name": "Python 3 (ipykernel)",
   "language": "python",
   "name": "python3"
  },
  "language_info": {
   "codemirror_mode": {
    "name": "ipython",
    "version": 3
   },
   "file_extension": ".py",
   "mimetype": "text/x-python",
   "name": "python",
   "nbconvert_exporter": "python",
   "pygments_lexer": "ipython3",
   "version": "3.9.12"
  }
 },
 "nbformat": 4,
 "nbformat_minor": 5
}
