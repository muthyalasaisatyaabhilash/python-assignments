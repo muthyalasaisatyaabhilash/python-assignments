{
 "cells": [
  {
   "cell_type": "markdown",
   "id": "3a3d1f75",
   "metadata": {},
   "source": [
    "1.A)\n",
    "No python standard library not included with pyintplus.\n",
    "it can be imported after the installation of the pyintplus.\n",
    "\n",
    "2.A)\n",
    "we can call pyintplus with any name after giving as shortcut or alias.\n",
    "it can be easy to call with shortname rather than a long name.\n",
    "\n",
    "3.A)\n",
    "inputint() returns an integer object.\n",
    "inputfloat() returns an float object.\n",
    "\n",
    "4.A)\n",
    "By using pyip.inputint(min=0, max=99) we can ensure the user entered between 0 and 99.\n",
    "\n",
    "5.A)\n",
    "The allowRegexes and blockRegexes keyword arguments take a list of regular expression strings to check what the Pyinputplus function will accept or reject as valid input.\n",
    "\n",
    "6.A)\n",
    "If a blank input is entered three times,inputStr(limit=3) will raise an exception called RetryLimitException\n",
    "\n",
    "7.A)\n",
    "If blank input is entered three times,inputStr(limit=3, default='hello') gives output as hello."
   ]
  }
 ],
 "metadata": {
  "kernelspec": {
   "display_name": "Python 3 (ipykernel)",
   "language": "python",
   "name": "python3"
  },
  "language_info": {
   "codemirror_mode": {
    "name": "ipython",
    "version": 3
   },
   "file_extension": ".py",
   "mimetype": "text/x-python",
   "name": "python",
   "nbconvert_exporter": "python",
   "pygments_lexer": "ipython3",
   "version": "3.9.12"
  }
 },
 "nbformat": 4,
 "nbformat_minor": 5
}
