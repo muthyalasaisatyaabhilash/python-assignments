{
 "cells": [
  {
   "cell_type": "markdown",
   "id": "c3ea76c5",
   "metadata": {},
   "source": [
    "1.a)\n",
    "\n",
    "Empty dictionary look like {} (empty set).\n",
    "\n",
    "2.a)\n",
    "\n",
    "The value is {'foo':42}\n",
    "\n",
    "3.a)\n",
    "\n",
    "Elements in list can accessed with their index. whereas in Ditionary elements are accessed by the keys.\n",
    "\n",
    "4.a)\n",
    "\n",
    "It will throw an key error.\n",
    "\n",
    "5.a)\n",
    "\n",
    "'cat' in spam checks if there is a key called 'cat' in the Dictionary. 'cat' in spam.keys() checks if there is a key with name 'cat' in Dictionary.\n",
    "\n",
    "6.a) 'cat' in spam checks if there is a key called 'cat' in the Dictionary. 'cat' in spam checks if there is a value 'cat' in the dictionary.\n",
    "\n",
    "7.a)\n",
    "\n",
    "spam.setdefault('color', 'black')\n",
    "\n",
    "8.a) By importing pprint pprint.pprint()"
   ]
  }
 ],
 "metadata": {
  "kernelspec": {
   "display_name": "Python 3 (ipykernel)",
   "language": "python",
   "name": "python3"
  },
  "language_info": {
   "codemirror_mode": {
    "name": "ipython",
    "version": 3
   },
   "file_extension": ".py",
   "mimetype": "text/x-python",
   "name": "python",
   "nbconvert_exporter": "python",
   "pygments_lexer": "ipython3",
   "version": "3.9.12"
  }
 },
 "nbformat": 4,
 "nbformat_minor": 5
}
