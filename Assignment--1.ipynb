{
 "cells": [
  {
   "cell_type": "markdown",
   "id": "ffdcf059",
   "metadata": {},
   "source": [
    "1A)*,+,-,/ these are expression...\n",
    "   'hello',-87.8,6 THESE are values."
   ]
  },
  {
   "cell_type": "markdown",
   "id": "374eb50a",
   "metadata": {},
   "source": [
    "2A)Variable is used to store or assign a value to it.Whereas string is a data which can be assigned to a variable ."
   ]
  },
  {
   "cell_type": "markdown",
   "id": "12a485ca",
   "metadata": {},
   "source": [
    "3A)Boolean:It can beRepresenting logical values\n",
    "   Float (floating point):Number with a decimal point\n",
    "   String:it is Alphanumeric characters"
   ]
  },
  {
   "cell_type": "markdown",
   "id": "67c62ac0",
   "metadata": {},
   "source": [
    "4a) EXPRESSIONS: Expressons are made up of opeartors and operands which laterproduce a value\n",
    "     expressions evalautes an sequence of operators and operands then it will produce a value."
   ]
  },
  {
   "cell_type": "markdown",
   "id": "aa86f349",
   "metadata": {},
   "source": [
    "5a)expressions produce a value when it completes evaluating it.\n",
    "    statement executes only aat runtime."
   ]
  },
  {
   "cell_type": "code",
   "execution_count": 3,
   "id": "9c63c92b",
   "metadata": {},
   "outputs": [],
   "source": [
    "#6a)\n",
    "bacon = 22"
   ]
  },
  {
   "cell_type": "code",
   "execution_count": 4,
   "id": "322a7cfb",
   "metadata": {},
   "outputs": [
    {
     "data": {
      "text/plain": [
       "22"
      ]
     },
     "execution_count": 4,
     "metadata": {},
     "output_type": "execute_result"
    }
   ],
   "source": [
    "bacon"
   ]
  },
  {
   "cell_type": "code",
   "execution_count": 5,
   "id": "404bbbeb",
   "metadata": {},
   "outputs": [
    {
     "data": {
      "text/plain": [
       "23"
      ]
     },
     "execution_count": 5,
     "metadata": {},
     "output_type": "execute_result"
    }
   ],
   "source": [
    "#6b)\n",
    "bacon + 1"
   ]
  },
  {
   "cell_type": "code",
   "execution_count": 6,
   "id": "c4322600",
   "metadata": {},
   "outputs": [
    {
     "data": {
      "text/plain": [
       "'spamspamspam'"
      ]
     },
     "execution_count": 6,
     "metadata": {},
     "output_type": "execute_result"
    }
   ],
   "source": [
    "#7a)\n",
    "\"spam\"+\"spamspam\""
   ]
  },
  {
   "cell_type": "code",
   "execution_count": 7,
   "id": "29788be1",
   "metadata": {},
   "outputs": [
    {
     "data": {
      "text/plain": [
       "'spamspamspam'"
      ]
     },
     "execution_count": 7,
     "metadata": {},
     "output_type": "execute_result"
    }
   ],
   "source": [
    "#7b)\n",
    "\"spam\"*3"
   ]
  },
  {
   "cell_type": "markdown",
   "id": "586fb45a",
   "metadata": {},
   "source": [
    "8)In python variable are start with alphabet or with symbols like underscore.Compiler will not accept integer as a variable"
   ]
  },
  {
   "cell_type": "code",
   "execution_count": 8,
   "id": "b4527214",
   "metadata": {},
   "outputs": [],
   "source": [
    "#9.A) int(), float(), str()"
   ]
  },
  {
   "cell_type": "code",
   "execution_count": 9,
   "id": "a10d7b21",
   "metadata": {},
   "outputs": [],
   "source": [
    "#10)I have eaten' + 99 +'burritos'\n",
    "#       In the above expression 99 is integer, str and int objets cannot concatenate . \n",
    "#      By enclosing 99 in quotes error can be rectified."
   ]
  },
  {
   "cell_type": "code",
   "execution_count": 10,
   "id": "8928f236",
   "metadata": {},
   "outputs": [
    {
     "data": {
      "text/plain": [
       "'I have eaten 99 Burritos'"
      ]
     },
     "execution_count": 10,
     "metadata": {},
     "output_type": "execute_result"
    }
   ],
   "source": [
    "'I have eaten' + ' 99 '+'Burritos'"
   ]
  },
  {
   "cell_type": "code",
   "execution_count": null,
   "id": "feec0f40",
   "metadata": {},
   "outputs": [],
   "source": []
  }
 ],
 "metadata": {
  "kernelspec": {
   "display_name": "Python 3 (ipykernel)",
   "language": "python",
   "name": "python3"
  },
  "language_info": {
   "codemirror_mode": {
    "name": "ipython",
    "version": 3
   },
   "file_extension": ".py",
   "mimetype": "text/x-python",
   "name": "python",
   "nbconvert_exporter": "python",
   "pygments_lexer": "ipython3",
   "version": "3.9.12"
  }
 },
 "nbformat": 4,
 "nbformat_minor": 5
}
