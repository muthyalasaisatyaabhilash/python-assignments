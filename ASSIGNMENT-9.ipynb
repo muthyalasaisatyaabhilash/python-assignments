{
 "cells": [
  {
   "cell_type": "markdown",
   "id": "c2b81940",
   "metadata": {},
   "source": [
    "1.A)\n",
    "relative path refer to the current directory location.\n",
    "\n",
    "2.A)\n",
    "An absolute path refers to the complete details needed to locate a file or folder, starting from the root element and ending with the other subdirectories.\n",
    "\n",
    "3.A)\n",
    "os.getcwd() refers to get the current working directory.\n",
    "os.chdir() refers to change the current working directory.\n",
    "\n",
    "4.A)\n",
    ". refers to current directory\n",
    ".. refers to the parent directory.\n",
    "\n",
    "5.A)\n",
    "In C:\\bacon\\eggs\\spam.txt\n",
    "C:\\bacon\\eggs is directory name and spam.txt is base name\n",
    "\n",
    "6.A)\n",
    "three “mode” arguments in open() function are 'r', 'w', 'a'\n",
    "a is for append\n",
    "w is for write\n",
    "r is for read\n",
    "\n",
    "7.A)\n",
    "The older data will be deleted and the file will opens as an empty file\n",
    "\n",
    "8.A)\n",
    "The readlines() method returns a list containing each line in the file as a list item.\n",
    "The read() method returns the specified number of bytes from the file. Default is -1 which means the whole file.\n",
    "\n",
    "9.A)\n",
    "shelf value resembles a Dictionary data structure."
   ]
  }
 ],
 "metadata": {
  "kernelspec": {
   "display_name": "Python 3 (ipykernel)",
   "language": "python",
   "name": "python3"
  },
  "language_info": {
   "codemirror_mode": {
    "name": "ipython",
    "version": 3
   },
   "file_extension": ".py",
   "mimetype": "text/x-python",
   "name": "python",
   "nbconvert_exporter": "python",
   "pygments_lexer": "ipython3",
   "version": "3.9.12"
  }
 },
 "nbformat": 4,
 "nbformat_minor": 5
}
