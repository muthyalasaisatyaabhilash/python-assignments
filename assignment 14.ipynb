{
 "cells": [
  {
   "cell_type": "markdown",
   "id": "f2a31ad8",
   "metadata": {},
   "source": [
    "1)RGBA(Red-Green-Blue-Alpha)\n",
    "The RGB color model is extended in this specification to include “alpha” to allow specification of the opacity of a color."
   ]
  },
  {
   "cell_type": "markdown",
   "id": "76d085ac",
   "metadata": {},
   "source": [
    "2)"
   ]
  },
  {
   "cell_type": "markdown",
   "id": "7aa25ccf",
   "metadata": {},
   "source": [
    "3)The box.tuple submodule provides read-only access for the tuple userdata type. It allows, for a single tuple"
   ]
  },
  {
   "cell_type": "markdown",
   "id": "efd21bf2",
   "metadata": {},
   "source": [
    "4)In order to find the height and width of an image, there are two approaches. The first approach is by using the PIL(Pillow) library and the second approach is by using the Open-CV library."
   ]
  },
  {
   "cell_type": "markdown",
   "id": "66be9b82",
   "metadata": {},
   "source": [
    "5)Here we create an Image object for an image that’s 100 pixels wide and 200 pixels tall, with a purple background . This image is then saved to the file purpleImage.png. We call Image.new() again to create another Image object"
   ]
  },
  {
   "cell_type": "markdown",
   "id": "b017b4ff",
   "metadata": {},
   "source": [
    "6)he PIL module is used for storing, processing, and displaying images in Python. To save images, we can use the PIL.save() function. This function is used to export an image to an external file. But to use this function first we should have an object which contains an image.\n",
    "We can set the format using the format parameter. If no format is specified, it takes the format specified in the filename."
   ]
  },
  {
   "cell_type": "markdown",
   "id": "1570aba7",
   "metadata": {},
   "source": [
    "7)The 'ImageDraw' module provides simple 2D graphics support for Image Object. Generally, we use this module to create new images, annotate or retouch existing images and to generate graphics on the fly for web use"
   ]
  },
  {
   "cell_type": "markdown",
   "id": "67406974",
   "metadata": {},
   "source": [
    "8)Images and other included objects may have hyperlinks associated with them, both through the standard linking mechanisms, but also via image maps. An image map specifies active geometric regions of an included object and assigns a link to each region"
   ]
  }
 ],
 "metadata": {
  "kernelspec": {
   "display_name": "Python 3 (ipykernel)",
   "language": "python",
   "name": "python3"
  },
  "language_info": {
   "codemirror_mode": {
    "name": "ipython",
    "version": 3
   },
   "file_extension": ".py",
   "mimetype": "text/x-python",
   "name": "python",
   "nbconvert_exporter": "python",
   "pygments_lexer": "ipython3",
   "version": "3.9.7"
  }
 },
 "nbformat": 4,
 "nbformat_minor": 5
}
